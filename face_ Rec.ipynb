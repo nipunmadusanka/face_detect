{
 "cells": [
  {
   "cell_type": "code",
   "execution_count": 7,
   "id": "353c0356",
   "metadata": {},
   "outputs": [
    {
     "name": "stdout",
     "output_type": "stream",
     "text": [
      "['Barack Obama', 'Donald Trump', 'George W Bush']\n",
      "[0 1 2]\n",
      "{'Barack Obama': 0, 'Donald Trump': 1, 'George W Bush': 2}\n"
     ]
    }
   ],
   "source": [
    "import os\n",
    "import numpy as np\n",
    "\n",
    "data_path=r'train_data_2'\n",
    "\n",
    "labels=os.listdir(data_path)\n",
    "categories=np.arange(len(labels))\n",
    "category_dict=dict(zip(labels,categories))\n",
    "\n",
    "print(labels)\n",
    "print(categories)\n",
    "print(category_dict)"
   ]
  },
  {
   "cell_type": "code",
   "execution_count": null,
   "id": "8eee5f3b",
   "metadata": {},
   "outputs": [],
   "source": [
    "import cv2\n",
    "\n",
    "face_classifier=cv2.CascadeClassifier('haarcascade_frontalface_default.xml')\n",
    "\n",
    "data=[]\n",
    "target=[]\n",
    "\n",
    "for label in labels:\n",
    "    \n",
    "    imgs_path=os.path.join(data_path,label)\n",
    "    img_names=os.listdir(imgs_path)\n",
    "    \n",
    "    for img_name in img_names:\n",
    "        \n",
    "        img_path=os.path.join(imgs_path,img_name)\n",
    "        img=cv2.imread(img_path)\n",
    "    \n",
    "        gray=cv2.cvtColor(img,cv2.COLOR_BGR2GRAY)\n",
    "        faces=face_classifier.detectMultiScale(gray)\n",
    "        \n",
    "        try:\n",
    "        \n",
    "            for (x,y,w,h) in faces:\n",
    "\n",
    "                cropped_face=gray[y:y+h,x:x+w]\n",
    "                cv2.imshow('cropped_face',cropped_face)\n",
    "\n",
    "                k=cv2.waitKey(0)\n",
    "\n",
    "                if(k==121):\n",
    "                    cropped_face=cv2.resize(cropped_face,(50,50))\n",
    "                    data.append(cropped_face)\n",
    "                    target.append(category_dict[label])\n",
    "\n",
    "                else:\n",
    "\n",
    "                    pass       \n",
    "        except:\n",
    "           \n",
    "            pass\n",
    "cv2.destroyAllWindows()"
   ]
  },
  {
   "cell_type": "code",
   "execution_count": null,
   "id": "e99c3235",
   "metadata": {},
   "outputs": [],
   "source": [
    "data=np.array(data)\n",
    "data=data.reshape(data.shape[0],data.shape[1]*data.shape[2])\n",
    "target=np.array(target)\n",
    "\n",
    "np.save('data',data)\n",
    "np.save('target',target)"
   ]
  }
 ],
 "metadata": {
  "kernelspec": {
   "display_name": "Python 3 (ipykernel)",
   "language": "python",
   "name": "python3"
  },
  "language_info": {
   "codemirror_mode": {
    "name": "ipython",
    "version": 3
   },
   "file_extension": ".py",
   "mimetype": "text/x-python",
   "name": "python",
   "nbconvert_exporter": "python",
   "pygments_lexer": "ipython3",
   "version": "3.9.7"
  }
 },
 "nbformat": 4,
 "nbformat_minor": 5
}
